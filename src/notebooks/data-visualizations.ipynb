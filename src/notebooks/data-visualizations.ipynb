{
 "cells": [
  {
   "cell_type": "markdown",
   "id": "cc985cf9",
   "metadata": {},
   "source": [
    "# Data Visualization\n",
    "\n",
    "The below [autoreload](https://ipython.org/ipython-doc/3/config/extensions/autoreload.html) extension ensures that if any locally imported python files change, the modules defined there are reloaded"
   ]
  },
  {
   "cell_type": "code",
   "execution_count": 8,
   "id": "5bc86f9b",
   "metadata": {},
   "outputs": [
    {
     "name": "stdout",
     "output_type": "stream",
     "text": [
      "Requirement already satisfied: hereutil in /Users/citlalitrigos/opt/anaconda3/lib/python3.8/site-packages (0.1.3)\n",
      "Requirement already satisfied: pyprojroot<0.3.0,>=0.2.0 in /Users/citlalitrigos/opt/anaconda3/lib/python3.8/site-packages (from hereutil) (0.2.0)\n",
      "\n",
      "\u001b[1m[\u001b[0m\u001b[34;49mnotice\u001b[0m\u001b[1;39;49m]\u001b[0m\u001b[39;49m A new release of pip available: \u001b[0m\u001b[31;49m22.2.2\u001b[0m\u001b[39;49m -> \u001b[0m\u001b[32;49m23.0.1\u001b[0m\n",
      "\u001b[1m[\u001b[0m\u001b[34;49mnotice\u001b[0m\u001b[1;39;49m]\u001b[0m\u001b[39;49m To update, run: \u001b[0m\u001b[32;49mpip install --upgrade pip\u001b[0m\n"
     ]
    }
   ],
   "source": [
    "# install dependencies \n",
    "import sys\n",
    "!{sys.executable} -m pip install hereutil"
   ]
  },
  {
   "cell_type": "code",
   "execution_count": 9,
   "id": "a323386a",
   "metadata": {},
   "outputs": [
    {
     "name": "stdout",
     "output_type": "stream",
     "text": [
      "The autoreload extension is already loaded. To reload it, use:\n",
      "  %reload_ext autoreload\n"
     ]
    }
   ],
   "source": [
    "%load_ext autoreload\n",
    "%autoreload 2"
   ]
  },
  {
   "cell_type": "markdown",
   "id": "45b3b104",
   "metadata": {},
   "source": [
    "The below imports here, which allows one to refer to the root directory of the project in a consistent manner across execution environments. It then adds here() (the root directory) to the system path to ensure that we can load python modules defined in the project."
   ]
  },
  {
   "cell_type": "code",
   "execution_count": 11,
   "id": "244576e4",
   "metadata": {},
   "outputs": [],
   "source": [
    "from hereutil import here, add_to_sys_path\n",
    "add_to_sys_path(here())"
   ]
  },
  {
   "cell_type": "markdown",
   "id": "a91ec5ab",
   "metadata": {},
   "source": [
    "## Connecting to MariaDB "
   ]
  },
  {
   "cell_type": "code",
   "execution_count": 9,
   "id": "d05c8449",
   "metadata": {},
   "outputs": [
    {
     "ename": "ModuleNotFoundError",
     "evalue": "No module named 'common_basis'",
     "output_type": "error",
     "traceback": [
      "\u001b[0;31m---------------------------------------------------------------------------\u001b[0m",
      "\u001b[0;31mModuleNotFoundError\u001b[0m                       Traceback (most recent call last)",
      "\u001b[0;32m<ipython-input-9-1a44b6a0db2e>\u001b[0m in \u001b[0;36m<module>\u001b[0;34m\u001b[0m\n\u001b[1;32m      1\u001b[0m \u001b[0;31m# this isn't working\u001b[0m\u001b[0;34m\u001b[0m\u001b[0;34m\u001b[0m\u001b[0;34m\u001b[0m\u001b[0m\n\u001b[0;32m----> 2\u001b[0;31m \u001b[0;32mfrom\u001b[0m \u001b[0mcommon_basis\u001b[0m \u001b[0;32mimport\u001b[0m \u001b[0;34m*\u001b[0m\u001b[0;34m\u001b[0m\u001b[0;34m\u001b[0m\u001b[0m\n\u001b[0m",
      "\u001b[0;31mModuleNotFoundError\u001b[0m: No module named 'common_basis'"
     ]
    }
   ],
   "source": [
    "# this isn't working\n",
    "from common_basis import *"
   ]
  },
  {
   "cell_type": "code",
   "execution_count": null,
   "id": "4a1bf727",
   "metadata": {},
   "outputs": [],
   "source": []
  },
  {
   "cell_type": "code",
   "execution_count": null,
   "id": "a2a363d1",
   "metadata": {},
   "outputs": [],
   "source": []
  }
 ],
 "metadata": {
  "kernelspec": {
   "display_name": "Python 3",
   "language": "python",
   "name": "python3"
  },
  "language_info": {
   "codemirror_mode": {
    "name": "ipython",
    "version": 3
   },
   "file_extension": ".py",
   "mimetype": "text/x-python",
   "name": "python",
   "nbconvert_exporter": "python",
   "pygments_lexer": "ipython3",
   "version": "3.8.8"
  }
 },
 "nbformat": 4,
 "nbformat_minor": 5
}
